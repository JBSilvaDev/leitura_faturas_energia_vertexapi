{
 "cells": [
  {
   "cell_type": "code",
   "execution_count": null,
   "id": "0ff7c3bb",
   "metadata": {},
   "outputs": [
    {
     "name": "stdout",
     "output_type": "stream",
     "text": [
      "C:\\Users\\julianobs\\OneDrive - Suzano S A\\Area Dev\\GitHub\\leitura_faturas_energia_vertexapi\\\n"
     ]
    }
   ],
   "source": [
    "from dotenv import load_dotenv\n",
    "import os\n",
    "\n",
    "load_dotenv()\n",
    "\n",
    "print(os.getenv(\"CAMINHO\"))"
   ]
  },
  {
   "cell_type": "code",
   "execution_count": 8,
   "id": "1efbaa80",
   "metadata": {},
   "outputs": [
    {
     "name": "stdout",
     "output_type": "stream",
     "text": [
      "C:\\Users\\julianobs\\OneDrive - Suzano S A\\Area Dev\\GitHub\\leitura_faturas_energia_vertexapi\\\n"
     ]
    }
   ],
   "source": [
    "from dotenv import load_dotenv\n",
    "import os\n",
    "\n",
    "load_dotenv()\n",
    "\n",
    "class teste:\n",
    "    def __init__(self):\n",
    "        self.caminho = None\n",
    "\n",
    "    def set_caminho(self):\n",
    "        self.caminho = os.getenv(\"CAMINHO\")\n",
    "\n",
    "    def exibe(self):\n",
    "        self.set_caminho()\n",
    "        print(self.caminho)\n",
    "\n",
    "t = teste()\n",
    "t.exibe()"
   ]
  },
  {
   "cell_type": "code",
   "execution_count": null,
   "id": "17fd1b57",
   "metadata": {},
   "outputs": [],
   "source": [
    "caminho =  []\n",
    "class LerFaturas:\n",
    "  def __init__(self):\n",
    "    self.lista_faturas = []\n",
    "\n",
    "\n",
    "  def ler_faturas(self, caminho):\n",
    "    for i in caminho:\n",
    "      resposta = json.loads(modelo.chama_modelo(i))\n",
    "      resposta.update({\"ARQUIVO\":i})\n",
    "      if len(resposta['COD BARRAS']) < 30:\n",
    "        resposta.update({\"COD BARRAS\":\"Não encontrado\"})\n",
    "      pastas_pdfs.mover_pdf(self.pasta_nao_lidos, self.pasta_lidos, i)\n",
    "      self.lista_faturas.append(resposta)\n",
    "      return self.lista_faturas"
   ]
  },
  {
   "cell_type": "code",
   "execution_count": null,
   "id": "ffc1781c",
   "metadata": {},
   "outputs": [],
   "source": [
    " def ler_faturas(self, caminho):\n",
    "\n",
    "    self.pasta_nao_lidos = fr\"{caminho}\\pdfs_nao_lidos\"\n",
    "    self.pasta_lidos = fr\"{caminho}\\pdfs_lidos\"\n",
    "    arquivos = os.listdir(self.pasta_nao_lidos)  \n",
    "\n",
    "    for i in arquivos:\n",
    "      resposta = json.loads(modelo.chama_modelo(fr\"{self.pasta_nao_lidos}\\{i}\"))\n",
    "      resposta.update({\"ARQUIVO\":i})\n",
    "      if len(resposta['COD BARRAS']) < 30:\n",
    "        resposta.update({\"COD BARRAS\":\"Não encontrado\"})\n",
    "      pastas_pdfs.mover_pdf(self.pasta_nao_lidos, self.pasta_lidos, i)\n",
    "      self.lista_faturas.append(resposta)\n",
    "      return self.lista_faturas"
   ]
  },
  {
   "cell_type": "code",
   "execution_count": 2,
   "id": "275821e3",
   "metadata": {},
   "outputs": [
    {
     "name": "stdout",
     "output_type": "stream",
     "text": [
      "[0, 1, 2, 3, 4, 5, 6, 7, 8, 9]\n"
     ]
    }
   ],
   "source": [
    "class loopadd:\n",
    "\n",
    "  def __init__(self):\n",
    "    self.lista = []\n",
    "\n",
    "  def l2(self):\n",
    "    for i in range(10):\n",
    "      self.lista.append(i)\n",
    "    return self.lista\n",
    "  \n",
    "a = loopadd()\n",
    "print(a.l2())\n"
   ]
  },
  {
   "cell_type": "code",
   "execution_count": 1,
   "id": "a14ad787",
   "metadata": {},
   "outputs": [
    {
     "name": "stdout",
     "output_type": "stream",
     "text": [
      "pdfs_nao_lidos\n"
     ]
    }
   ],
   "source": [
    "class Pastas:\n",
    "    def __init__(self):\n",
    "        self.pasta_nao_lidos = \"pdfs_nao_lidos\"\n",
    "        self.pasta_lidos = \"pdfs_lidos\"\n",
    "\n",
    "\n",
    "a = Pastas()\n",
    "print(a.pasta_nao_lidos)"
   ]
  }
 ],
 "metadata": {
  "kernelspec": {
   "display_name": "venv",
   "language": "python",
   "name": "python3"
  },
  "language_info": {
   "codemirror_mode": {
    "name": "ipython",
    "version": 3
   },
   "file_extension": ".py",
   "mimetype": "text/x-python",
   "name": "python",
   "nbconvert_exporter": "python",
   "pygments_lexer": "ipython3",
   "version": "3.13.3"
  }
 },
 "nbformat": 4,
 "nbformat_minor": 5
}
